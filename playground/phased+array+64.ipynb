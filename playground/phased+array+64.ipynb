{
 "cells": [
  {
   "cell_type": "code",
   "execution_count": 1,
   "metadata": {
    "collapsed": false
   },
   "outputs": [
    {
     "data": {
      "image/jpeg": "[encoded data removed]",
      "text/plain": [
       "<IPython.core.display.Image object>"
      ]
     },
     "metadata": {},
     "output_type": "display_data"
    }
   ],
   "source": [
    "#Import libraries for simulation\n",
    "import tensorflow as tf\n",
    "import numpy as np\n",
    "\n",
    "#Imports for visualization\n",
    "import PIL.Image\n",
    "from io import BytesIO\n",
    "from IPython.display import clear_output, Image, display\n",
    "\n",
    "def MakeImage(a, fmt='jpeg', rng=[0,1]):\n",
    "  a = (a - rng[0])/float(rng[1] - rng[0])*255\n",
    "  a = np.uint8(np.clip(a, 0, 255))\n",
    "  f = BytesIO()\n",
    "  PIL.Image.fromarray(a).save(f, fmt)\n",
    "  return Image(data=f.getvalue())\n",
    "\n",
    "def DisplayArray(a, fmt='jpeg', rng=[0,1]):\n",
    "  \"\"\"Display an array as a picture.\"\"\"\n",
    "  Img = MakeImage(a, fmt, rng)\n",
    "  clear_output(wait = True)\n",
    "  display(Img)\n",
    "\n",
    "sess = tf.InteractiveSession()\n",
    "\n",
    "def make_kernel(a):\n",
    "  \"\"\"Transform a 2D array into a convolution kernel\"\"\"\n",
    "  a = np.asarray(a)\n",
    "  a = a.reshape(list(a.shape) + [1,1])\n",
    "  return tf.constant(a, dtype=1)\n",
    "\n",
    "def simple_conv(x, k):\n",
    "  \"\"\"A simplified 2D convolution operation\"\"\"\n",
    "  x = tf.expand_dims(tf.expand_dims(x, 0), -1)\n",
    "  y = tf.nn.depthwise_conv2d(x, k, [1, 1, 1, 1], padding='SAME')\n",
    "  return y[0, :, :, 0]\n",
    "\n",
    "def laplace(x):\n",
    "  \"\"\"Compute the 2D laplacian of an array\"\"\"\n",
    "  laplace_h = make_kernel([[0.0, 1.0, 0.0],\n",
    "                           [1.0, -4., 1.0],\n",
    "                           [0.0, 1.0, 0.0]])\n",
    "  laplace_b = make_kernel([[0.0, 0.0, 0.25, 0.0, 0.0],\n",
    "                           [0.0, 0.5, 1.0, 0.5, 0.0],\n",
    "                           [0.25, 1.0, -7., 1.0, 0.25],\n",
    "                           [0.0, 0.5, 1.0, 0.5, 0.0],\n",
    "                           [0.0, 0.0, 0.25, 0.0, 0.0]])\n",
    "  laplace_k = make_kernel([[0.5, 1.0, 0.5],\n",
    "                           [1.0, -6., 1.0],\n",
    "                           [0.5, 1.0, 0.5]])\n",
    "  return simple_conv(x, laplace_k)\n",
    "\n",
    "N = 500\n",
    "\n",
    "# Initial Conditions\n",
    "\n",
    "# Set everything to zero\n",
    "u_init = np.zeros([N, N], dtype=np.float32)\n",
    "ut_init = np.zeros([N, N], dtype=np.float32)\n",
    "\n",
    "DisplayArray(u_init, rng=[-0.1, 0.1])\n",
    "\n",
    "# Parameters:\n",
    "# eps -- time resolution\n",
    "# damping -- wave damping\n",
    "eps = tf.placeholder(tf.float32, shape=())\n",
    "damping = tf.placeholder(tf.float32, shape=())\n",
    "\n",
    "# Create variables for simulation state\n",
    "U  = tf.Variable(u_init)\n",
    "Ut = tf.Variable(ut_init)\n",
    "\n",
    "# Discretized PDE update rules\n",
    "U_ = U + eps * Ut\n",
    "Ut_ = Ut + eps * (laplace(U) - damping * Ut)\n",
    "\n",
    "# Operation to update the state\n",
    "step = tf.group(\n",
    "  U.assign(U_),\n",
    "  Ut.assign(Ut_))\n",
    "\n",
    "# Initialize state to initial conditions\n",
    "tf.global_variables_initializer().run()"
   ]
  },
  {
   "cell_type": "code",
   "execution_count": 2,
   "metadata": {
    "collapsed": false
   },
   "outputs": [
    {
     "data": {
      "image/jpeg": "[encoded data removed]",
      "text/plain": [
       "<IPython.core.display.Image object>"
      ]
     },
     "metadata": {},
     "output_type": "display_data"
    }
   ],
   "source": [
    "p = 0\n",
    "\n",
    "# Prepare positions of phased array sources\n",
    "PhaseDelay = 3 #phase delay between elements in eps time units\n",
    "NumSources = 64\n",
    "DistanceBetweenSources = 2\n",
    "BaseY = 410\n",
    "BaseX = N/2 - NumSources*DistanceBetweenSources/2\n",
    "Sources = [(BaseY, BaseX+i*DistanceBetweenSources) for i in range(0, NumSources)]\n",
    "\n",
    "# Run 10000 steps of PDE\n",
    "for i in range(4400):\n",
    "  # Step simulation\n",
    "  step.run({eps: 0.05, damping: 0.01})\n",
    "    \n",
    "  # At every time step,ovie check if a new source must be added\n",
    "  if i%PhaseDelay == 0 and p<NumSources:\n",
    "    Ucurrent = U.eval(),\n",
    "    UasArray= Ucurrent[0]\n",
    "    UasArray[Sources[p][0],Sources[p][1]]=1\n",
    "    nstep = tf.group(U.assign(UasArray))\n",
    "    nstep.run()\n",
    "    p = p + 1\n",
    "  \n",
    "  DisplayArray(U.eval(), rng=[-0.1, 0.1])"
   ]
  }
 ],
 "metadata": {
  "kernelspec": {
   "display_name": "Python 3",
   "language": "python",
   "name": "python3"
  },
  "language_info": {
   "codemirror_mode": {
    "name": "ipython",
    "version": 3
   },
   "file_extension": ".py",
   "mimetype": "text/x-python",
   "name": "python",
   "nbconvert_exporter": "python",
   "pygments_lexer": "ipython3",
   "version": "3.5.1"
  }
 },
 "nbformat": 4,
 "nbformat_minor": 2
}
